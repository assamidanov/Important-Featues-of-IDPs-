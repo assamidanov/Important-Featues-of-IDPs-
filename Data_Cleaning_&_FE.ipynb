{
  "nbformat": 4,
  "nbformat_minor": 0,
  "metadata": {
    "kernelspec": {
      "name": "python3",
      "display_name": "Python 3"
    },
    "language_info": {
      "codemirror_mode": {
        "name": "ipython",
        "version": 3
      },
      "file_extension": ".py",
      "mimetype": "text/x-python",
      "name": "python",
      "nbconvert_exporter": "python",
      "pygments_lexer": "ipython3",
      "version": "3.7.3"
    },
    "colab": {
      "name": "Data Cleaning & FE",
      "provenance": [],
      "collapsed_sections": [],
      "include_colab_link": true
    },
    "accelerator": "GPU"
  },
  "cells": [
    {
      "cell_type": "markdown",
      "metadata": {
        "id": "view-in-github",
        "colab_type": "text"
      },
      "source": [
        "<a href=\"https://colab.research.google.com/github/assamidanov/Important-Featues-of-IDPs-/blob/master/Data_Cleaning_%26_FE.ipynb\" target=\"_parent\"><img src=\"https://colab.research.google.com/assets/colab-badge.svg\" alt=\"Open In Colab\"/></a>"
      ]
    },
    {
      "cell_type": "markdown",
      "metadata": {
        "id": "9JPGa4rcOdex",
        "colab_type": "text"
      },
      "source": [
        "# Displacement Data: Afghanistan (Herat, Jalalabad)\n",
        "\n",
        "Afghanistan faces one of the world’s most acute internal displacement crises; the result of several factors, including protracted conflict, ongoing insecurity and natural hazards. Displacement has become a familiar survival strategy for many Afghans and, in some cases, an inevitable part of life for two generations.\n",
        "\n",
        "As of 31 December 2018, Afghanistan has 2,598,000 total number of internally displaced people(IDP)(http://www.internal-displacement.org/). \n",
        "\n",
        "Displacement affects all individuals differently with needs, vulnerabilities and protection risks evolving over time due to exhaustion of coping mechanisms and only basic emergency assistance provided following initial displacement. Inadequate shelter, food insecurity, insufficient access to sanitation and health facilities, as well as a lack of protection, often result in precarious living conditions that jeopardises the well-being and dignity of affected families.\n",
        "\n",
        "The survey was taken in by Arqaam to quantitatively monitor and evaluate the huminatatian assitantance projects by NGOs. It is also directed towards to understand the status-quo before the begining of the project, and the impact the project had over time. \n",
        "\n",
        "The survey has ### comprehensive questions and 11260 respndents. The survey were taken in randomly stratified approach. Jalalabadd and Herat is chosen as a target region. it can be claimed with its variety of ethnic groups and displacement specifications both cities can be representative of Afghanistan.\n",
        "\n",
        "\n",
        "This study will analyze the data. I will try to implement machine learning algorithm to identify the displacement status of the respondent based on the given information. Then, I will identify importance features which defines this diplacement status. "
      ]
    },
    {
      "cell_type": "code",
      "metadata": {
        "id": "geN2asMKTA9a",
        "colab_type": "code",
        "colab": {}
      },
      "source": [
        "import numpy as np\n",
        "import pandas as pd\n",
        "import matplotlib.pyplot as plt\n",
        "import descartes\n",
        "%matplotlib inline\n",
        "import seaborn as sns"
      ],
      "execution_count": 0,
      "outputs": []
    },
    {
      "cell_type": "code",
      "metadata": {
        "id": "0WzMTwNJT9_A",
        "colab_type": "code",
        "colab": {}
      },
      "source": [
        "!pip install -U -q PyDrive\n",
        "from pydrive.auth import GoogleAuth\n",
        "from pydrive.drive import GoogleDrive\n",
        "from google.colab import auth\n",
        "from oauth2client.client import GoogleCredentials"
      ],
      "execution_count": 0,
      "outputs": []
    },
    {
      "cell_type": "code",
      "metadata": {
        "id": "6-7ZtKI2TA9y",
        "colab_type": "code",
        "colab": {}
      },
      "source": [
        "auth.authenticate_user()\n",
        "gauth = GoogleAuth()\n",
        "gauth.credentials = GoogleCredentials.get_application_default()\n",
        "drive = GoogleDrive(gauth)"
      ],
      "execution_count": 0,
      "outputs": []
    },
    {
      "cell_type": "code",
      "metadata": {
        "id": "JGo3rvYMUIgF",
        "colab_type": "code",
        "colab": {}
      },
      "source": [
        "downloaded = drive.CreateFile({'id':'1EjvccnOqYOHe9zR5B1rIy2UVjfDnQpbI'}) # replace the id with id of file you want to access\n",
        "downloaded.GetContentFile('baseline.csv')"
      ],
      "execution_count": 0,
      "outputs": []
    },
    {
      "cell_type": "code",
      "metadata": {
        "id": "uGxC5yRHWLIR",
        "colab_type": "code",
        "outputId": "22af1169-21c0-45cd-c219-01455ae94b59",
        "colab": {
          "base_uri": "https://localhost:8080/",
          "height": 34
        }
      },
      "source": [
        "baseline = pd.read_csv('baseline.csv')\n",
        "baseline.replace('no_inf', np.nan, inplace = True)\n",
        "baseline.shape # with print and format"
      ],
      "execution_count": 0,
      "outputs": [
        {
          "output_type": "execute_result",
          "data": {
            "text/plain": [
              "(11260, 154)"
            ]
          },
          "metadata": {
            "tags": []
          },
          "execution_count": 8
        }
      ]
    },
    {
      "cell_type": "markdown",
      "metadata": {
        "id": "d1vHnLmKTA-D",
        "colab_type": "text"
      },
      "source": [
        "# Data Cleaning\n",
        "\n",
        "In this part, I divided the survey is divided into 10 parts, as it was originally did in the survey. I firstly, converted column names into more readable manner. Secondly, I deleted some minor variable which are unrelated to the final outcome or these variables are already explained by the other variables. "
      ]
    },
    {
      "cell_type": "markdown",
      "metadata": {
        "id": "1WHRQJAzTA-F",
        "colab_type": "text"
      },
      "source": [
        "### Basics\n",
        "df_basics contains generel household information like name, gender, marital status and household composition."
      ]
    },
    {
      "cell_type": "code",
      "metadata": {
        "id": "bEjb8tnUTA-H",
        "colab_type": "code",
        "outputId": "5a5ef417-dd07-4a6d-9467-bf2fdc124ca3",
        "colab": {
          "base_uri": "https://localhost:8080/",
          "height": 292
        }
      },
      "source": [
        "df_basics = baseline.loc[:, 'City':'hh_lit_male']\n",
        "df_basics.rename(columns = {'a_basics/a01' : 'sex',\n",
        "                            'a_basics/a02' : 'marital_st',\n",
        "                            'a_basics/a03': \"ethnic\",\n",
        "                            'b_hh/b01a': 'fem_0_4years',\n",
        "                            'b_hh/b01b': 'male_0_4years',\n",
        "                            'b02a': 'fem_5_11years',\n",
        "                            'b02b': 'male_5_11years',\n",
        "                            'b03a': 'fem_12_17years',\n",
        "                            '/b03b': 'male_12_17years',\n",
        "                            'b04a': 'fem_18_59years',\n",
        "                            'b04b': 'male_18_59years',\n",
        "                            'b06a': 'fem_15_24years',\n",
        "                            'b06b': 'male_15_24years',\n",
        "                            'b05a': 'fem_60years',\n",
        "                            'b05b': 'male_60years'\n",
        "                           }, inplace = True)\n",
        "\n",
        "df_basics = df_basics[['City', 'loc_herat','sex', 'marital_st', 'ethnic', 'hh_total', 'male_0_4years',\n",
        "          'fem_5_11years', 'male_5_11years', 'fem_12_17years', 'male_12_17years',\n",
        "          'fem_18_59years','male_18_59years', 'fem_60years', 'male_60years', 'fem_15_24years',\n",
        "          'male_15_24years', 'hh_lit_female', 'hh_lit_male']]\n",
        "df_basics.head()"
      ],
      "execution_count": 0,
      "outputs": [
        {
          "output_type": "execute_result",
          "data": {
            "text/html": [
              "<div>\n",
              "<style scoped>\n",
              "    .dataframe tbody tr th:only-of-type {\n",
              "        vertical-align: middle;\n",
              "    }\n",
              "\n",
              "    .dataframe tbody tr th {\n",
              "        vertical-align: top;\n",
              "    }\n",
              "\n",
              "    .dataframe thead th {\n",
              "        text-align: right;\n",
              "    }\n",
              "</style>\n",
              "<table border=\"1\" class=\"dataframe\">\n",
              "  <thead>\n",
              "    <tr style=\"text-align: right;\">\n",
              "      <th></th>\n",
              "      <th>City</th>\n",
              "      <th>loc_herat</th>\n",
              "      <th>sex</th>\n",
              "      <th>marital_st</th>\n",
              "      <th>ethnic</th>\n",
              "      <th>hh_total</th>\n",
              "      <th>male_0_4years</th>\n",
              "      <th>fem_5_11years</th>\n",
              "      <th>male_5_11years</th>\n",
              "      <th>fem_12_17years</th>\n",
              "      <th>male_12_17years</th>\n",
              "      <th>fem_18_59years</th>\n",
              "      <th>male_18_59years</th>\n",
              "      <th>fem_60years</th>\n",
              "      <th>male_60years</th>\n",
              "      <th>fem_15_24years</th>\n",
              "      <th>male_15_24years</th>\n",
              "      <th>hh_lit_female</th>\n",
              "      <th>hh_lit_male</th>\n",
              "    </tr>\n",
              "  </thead>\n",
              "  <tbody>\n",
              "    <tr>\n",
              "      <th>0</th>\n",
              "      <td>herat</td>\n",
              "      <td>herat_01</td>\n",
              "      <td>male</td>\n",
              "      <td>married living with spouse</td>\n",
              "      <td>tajik</td>\n",
              "      <td>7</td>\n",
              "      <td>0</td>\n",
              "      <td>0</td>\n",
              "      <td>0</td>\n",
              "      <td>1</td>\n",
              "      <td>2</td>\n",
              "      <td>2</td>\n",
              "      <td>2</td>\n",
              "      <td>0</td>\n",
              "      <td>0</td>\n",
              "      <td>2</td>\n",
              "      <td>3</td>\n",
              "      <td>3</td>\n",
              "      <td>4</td>\n",
              "    </tr>\n",
              "    <tr>\n",
              "      <th>1</th>\n",
              "      <td>herat</td>\n",
              "      <td>herat_01</td>\n",
              "      <td>female</td>\n",
              "      <td>married living with spouse</td>\n",
              "      <td>hazara</td>\n",
              "      <td>5</td>\n",
              "      <td>0</td>\n",
              "      <td>0</td>\n",
              "      <td>0</td>\n",
              "      <td>0</td>\n",
              "      <td>0</td>\n",
              "      <td>3</td>\n",
              "      <td>1</td>\n",
              "      <td>0</td>\n",
              "      <td>1</td>\n",
              "      <td>2</td>\n",
              "      <td>0</td>\n",
              "      <td>3</td>\n",
              "      <td>2</td>\n",
              "    </tr>\n",
              "    <tr>\n",
              "      <th>2</th>\n",
              "      <td>herat</td>\n",
              "      <td>herat_01</td>\n",
              "      <td>female</td>\n",
              "      <td>married living with spouse</td>\n",
              "      <td>pashtun</td>\n",
              "      <td>17</td>\n",
              "      <td>0</td>\n",
              "      <td>0</td>\n",
              "      <td>0</td>\n",
              "      <td>0</td>\n",
              "      <td>4</td>\n",
              "      <td>7</td>\n",
              "      <td>5</td>\n",
              "      <td>0</td>\n",
              "      <td>1</td>\n",
              "      <td>3</td>\n",
              "      <td>5</td>\n",
              "      <td>7</td>\n",
              "      <td>10</td>\n",
              "    </tr>\n",
              "    <tr>\n",
              "      <th>3</th>\n",
              "      <td>herat</td>\n",
              "      <td>herat_01</td>\n",
              "      <td>female</td>\n",
              "      <td>widow</td>\n",
              "      <td>tajik</td>\n",
              "      <td>9</td>\n",
              "      <td>0</td>\n",
              "      <td>0</td>\n",
              "      <td>0</td>\n",
              "      <td>0</td>\n",
              "      <td>0</td>\n",
              "      <td>4</td>\n",
              "      <td>4</td>\n",
              "      <td>1</td>\n",
              "      <td>0</td>\n",
              "      <td>2</td>\n",
              "      <td>1</td>\n",
              "      <td>5</td>\n",
              "      <td>4</td>\n",
              "    </tr>\n",
              "    <tr>\n",
              "      <th>4</th>\n",
              "      <td>herat</td>\n",
              "      <td>herat_01</td>\n",
              "      <td>female</td>\n",
              "      <td>married living with spouse</td>\n",
              "      <td>tajik</td>\n",
              "      <td>8</td>\n",
              "      <td>0</td>\n",
              "      <td>0</td>\n",
              "      <td>1</td>\n",
              "      <td>2</td>\n",
              "      <td>0</td>\n",
              "      <td>2</td>\n",
              "      <td>2</td>\n",
              "      <td>0</td>\n",
              "      <td>1</td>\n",
              "      <td>4</td>\n",
              "      <td>2</td>\n",
              "      <td>4</td>\n",
              "      <td>3</td>\n",
              "    </tr>\n",
              "  </tbody>\n",
              "</table>\n",
              "</div>"
            ],
            "text/plain": [
              "    City loc_herat     sex  ... male_15_24years hh_lit_female  hh_lit_male\n",
              "0  herat  herat_01    male  ...               3             3            4\n",
              "1  herat  herat_01  female  ...               0             3            2\n",
              "2  herat  herat_01  female  ...               5             7           10\n",
              "3  herat  herat_01  female  ...               1             5            4\n",
              "4  herat  herat_01  female  ...               2             4            3\n",
              "\n",
              "[5 rows x 19 columns]"
            ]
          },
          "metadata": {
            "tags": []
          },
          "execution_count": 9
        }
      ]
    },
    {
      "cell_type": "markdown",
      "metadata": {
        "id": "IMYPx9rATA-T",
        "colab_type": "text"
      },
      "source": [
        "### Origin\n",
        "\n",
        "df_origin contains information about family origin and reasons for settlement"
      ]
    },
    {
      "cell_type": "code",
      "metadata": {
        "id": "c1AX1SVxTA-T",
        "colab_type": "code",
        "colab": {}
      },
      "source": [
        "df_origin = baseline.loc[:, 'c_origin/c01':'c_origin/c04']\n",
        "df_origin.rename(columns = {'c_origin/c01c': 'reason_settle',\n",
        "                 'c_origin/c02a': 'other_place',\n",
        "                 'c_origin/c02': 'province',\n",
        "                 'c_origin/c03': 'district',\n",
        "                 'c_origin/c01': 'fam_origin'\n",
        "                 }, inplace = True)"
      ],
      "execution_count": 0,
      "outputs": []
    },
    {
      "cell_type": "code",
      "metadata": {
        "id": "e2zpbT1BTA-r",
        "colab_type": "code",
        "outputId": "fa404c4b-5636-4511-bf51-3674ba96ce79",
        "colab": {
          "base_uri": "https://localhost:8080/",
          "height": 204
        }
      },
      "source": [
        "df_origin = df_origin[['fam_origin', 'province', 'district', 'other_place']]\n",
        "df_origin.head()"
      ],
      "execution_count": 0,
      "outputs": [
        {
          "output_type": "execute_result",
          "data": {
            "text/html": [
              "<div>\n",
              "<style scoped>\n",
              "    .dataframe tbody tr th:only-of-type {\n",
              "        vertical-align: middle;\n",
              "    }\n",
              "\n",
              "    .dataframe tbody tr th {\n",
              "        vertical-align: top;\n",
              "    }\n",
              "\n",
              "    .dataframe thead th {\n",
              "        text-align: right;\n",
              "    }\n",
              "</style>\n",
              "<table border=\"1\" class=\"dataframe\">\n",
              "  <thead>\n",
              "    <tr style=\"text-align: right;\">\n",
              "      <th></th>\n",
              "      <th>fam_origin</th>\n",
              "      <th>province</th>\n",
              "      <th>district</th>\n",
              "      <th>other_place</th>\n",
              "    </tr>\n",
              "  </thead>\n",
              "  <tbody>\n",
              "    <tr>\n",
              "      <th>0</th>\n",
              "      <td>yes</td>\n",
              "      <td>herat</td>\n",
              "      <td>enjil</td>\n",
              "      <td>no</td>\n",
              "    </tr>\n",
              "    <tr>\n",
              "      <th>1</th>\n",
              "      <td>yes</td>\n",
              "      <td>herat</td>\n",
              "      <td>enjil</td>\n",
              "      <td>no</td>\n",
              "    </tr>\n",
              "    <tr>\n",
              "      <th>2</th>\n",
              "      <td>yes</td>\n",
              "      <td>herat</td>\n",
              "      <td>enjil</td>\n",
              "      <td>no</td>\n",
              "    </tr>\n",
              "    <tr>\n",
              "      <th>3</th>\n",
              "      <td>yes</td>\n",
              "      <td>herat</td>\n",
              "      <td>zendahjan</td>\n",
              "      <td>no</td>\n",
              "    </tr>\n",
              "    <tr>\n",
              "      <th>4</th>\n",
              "      <td>yes</td>\n",
              "      <td>herat</td>\n",
              "      <td>enjil</td>\n",
              "      <td>no</td>\n",
              "    </tr>\n",
              "  </tbody>\n",
              "</table>\n",
              "</div>"
            ],
            "text/plain": [
              "  fam_origin province   district other_place\n",
              "0        yes    herat      enjil          no\n",
              "1        yes    herat      enjil          no\n",
              "2        yes    herat      enjil          no\n",
              "3        yes    herat  zendahjan          no\n",
              "4        yes    herat      enjil          no"
            ]
          },
          "metadata": {
            "tags": []
          },
          "execution_count": 11
        }
      ]
    },
    {
      "cell_type": "markdown",
      "metadata": {
        "id": "WPzFPkWTTA_W",
        "colab_type": "text"
      },
      "source": [
        "### Access to Basic Services\n",
        "\n",
        "df_service contains information about education of household members,health, electricity, water, water source and identity card"
      ]
    },
    {
      "cell_type": "code",
      "metadata": {
        "id": "BRxR7nSoTA_W",
        "colab_type": "code",
        "outputId": "abbec59d-dd02-4eb0-b2b1-c805c196da7f",
        "colab": {
          "base_uri": "https://localhost:8080/",
          "height": 204
        }
      },
      "source": [
        "df_service = baseline.loc[:, 'f_access/f_lit/f01a':'f_access/f11']\n",
        "df_service.rename(columns = {'f_access/f_lit/f01a': 'lit_female',\n",
        "                             'f_access/f_lit/f01b': 'lit_male',\n",
        "                             'f_access/f02a': 'educ_family',\n",
        "                             'f_access/f02b': 'educ_level',\n",
        "                             'f_access/f03': 'electric',\n",
        "                             'f_access/f04': 'source_water',\n",
        "                             'f_access/f04a': 'compound_water',\n",
        "                             'f_access/f05': 'clean',\n",
        "                             'f_access/f06': 'latrine_kind',\n",
        "                             'f_access/f06b': 'latrine_share',\n",
        "                             'f_access/f06c': 'sep_latrine',\n",
        "                             'f_access/f07': 'have_tazkera',\n",
        "                             'f_access/f09': 'health_prox',\n",
        "                             'f_access/f10': 'hlth_facility',\n",
        "                             'f_access/f11': 'h_fac_issue'\n",
        "                            }, inplace = True)\n",
        "df_service = df_service[['educ_family', 'educ_level', 'electric', 'clean', 'latrine_share', 'sep_latrine', 'have_tazkera', 'health_prox']]\n",
        "df_service.head()"
      ],
      "execution_count": 0,
      "outputs": [
        {
          "output_type": "execute_result",
          "data": {
            "text/html": [
              "<div>\n",
              "<style scoped>\n",
              "    .dataframe tbody tr th:only-of-type {\n",
              "        vertical-align: middle;\n",
              "    }\n",
              "\n",
              "    .dataframe tbody tr th {\n",
              "        vertical-align: top;\n",
              "    }\n",
              "\n",
              "    .dataframe thead th {\n",
              "        text-align: right;\n",
              "    }\n",
              "</style>\n",
              "<table border=\"1\" class=\"dataframe\">\n",
              "  <thead>\n",
              "    <tr style=\"text-align: right;\">\n",
              "      <th></th>\n",
              "      <th>educ_family</th>\n",
              "      <th>educ_level</th>\n",
              "      <th>electric</th>\n",
              "      <th>clean</th>\n",
              "      <th>latrine_share</th>\n",
              "      <th>sep_latrine</th>\n",
              "      <th>have_tazkera</th>\n",
              "      <th>health_prox</th>\n",
              "    </tr>\n",
              "  </thead>\n",
              "  <tbody>\n",
              "    <tr>\n",
              "      <th>0</th>\n",
              "      <td>edu_girl</td>\n",
              "      <td>sch_high</td>\n",
              "      <td>yes</td>\n",
              "      <td>w_good</td>\n",
              "      <td>no</td>\n",
              "      <td>no</td>\n",
              "      <td>yes</td>\n",
              "      <td>minh_mid</td>\n",
              "    </tr>\n",
              "    <tr>\n",
              "      <th>1</th>\n",
              "      <td>edu_boy</td>\n",
              "      <td>sch_post</td>\n",
              "      <td>yes</td>\n",
              "      <td>w_good</td>\n",
              "      <td>no</td>\n",
              "      <td>no</td>\n",
              "      <td>yes</td>\n",
              "      <td>minh_mid</td>\n",
              "    </tr>\n",
              "    <tr>\n",
              "      <th>2</th>\n",
              "      <td>edu_girl</td>\n",
              "      <td>sch_uni</td>\n",
              "      <td>yes</td>\n",
              "      <td>w_good</td>\n",
              "      <td>no</td>\n",
              "      <td>no</td>\n",
              "      <td>yes</td>\n",
              "      <td>minh_mid</td>\n",
              "    </tr>\n",
              "    <tr>\n",
              "      <th>3</th>\n",
              "      <td>edu_boy</td>\n",
              "      <td>sch_prim</td>\n",
              "      <td>yes</td>\n",
              "      <td>w_good</td>\n",
              "      <td>no</td>\n",
              "      <td>no</td>\n",
              "      <td>yes</td>\n",
              "      <td>minh_mid</td>\n",
              "    </tr>\n",
              "    <tr>\n",
              "      <th>4</th>\n",
              "      <td>edu_girl</td>\n",
              "      <td>sch_dipl</td>\n",
              "      <td>yes</td>\n",
              "      <td>w_good</td>\n",
              "      <td>no</td>\n",
              "      <td>no</td>\n",
              "      <td>yes</td>\n",
              "      <td>minh_mid</td>\n",
              "    </tr>\n",
              "  </tbody>\n",
              "</table>\n",
              "</div>"
            ],
            "text/plain": [
              "  educ_family educ_level electric  ... sep_latrine have_tazkera health_prox\n",
              "0    edu_girl   sch_high      yes  ...          no          yes    minh_mid\n",
              "1     edu_boy   sch_post      yes  ...          no          yes    minh_mid\n",
              "2    edu_girl    sch_uni      yes  ...          no          yes    minh_mid\n",
              "3     edu_boy   sch_prim      yes  ...          no          yes    minh_mid\n",
              "4    edu_girl   sch_dipl      yes  ...          no          yes    minh_mid\n",
              "\n",
              "[5 rows x 8 columns]"
            ]
          },
          "metadata": {
            "tags": []
          },
          "execution_count": 12
        }
      ]
    },
    {
      "cell_type": "markdown",
      "metadata": {
        "id": "93zMdAPlTA_j",
        "colab_type": "text"
      },
      "source": [
        "### Assets \n",
        "\n",
        "df_asset contains information about assets of the respondent starting from land to the house items."
      ]
    },
    {
      "cell_type": "code",
      "metadata": {
        "id": "hV2yCDzvTA_j",
        "colab_type": "code",
        "outputId": "e6997e03-7912-4aad-a304-6b6f03d8d0a5",
        "colab": {
          "base_uri": "https://localhost:8080/",
          "height": 204
        }
      },
      "source": [
        "df_assets = baseline.loc[:, 'g_social/g01':'h_assets/h23']\n",
        "df_assets.rename(columns = {'g_social/g01': 'soc_assist',\n",
        "                            'h_assets/h01': 'shelter_type',\n",
        "                            'h_assets/h01a': 'hhsld_number', \n",
        "                            'h_assets/h02': 'own_land',\n",
        "                            'h_assets/h03': 'land_deed',\n",
        "                            'h_assets/h04': 'livestock_type',\n",
        "                            'h_assets/h18': 'kitchen_items',\n",
        "                            'h_assets/h19': 'school_items',\n",
        "                            'h_assets/h20': 'own_matress',\n",
        "                            'h_assets/h21': 'own_blanket',\n",
        "                            'h_assets/h22': 'water_containers',\n",
        "                            'h_assets/h23': 'hygiene_items'\n",
        "                           }, inplace = True)\n",
        "df_assets = df_assets[['soc_assist', 'shelter_type', 'own_land', 'land_deed', 'livestock_type', 'kitchen_items', 'school_items', 'own_matress', 'own_blanket', 'water_containers', 'hygiene_items']]\n",
        "df_assets.head()"
      ],
      "execution_count": 0,
      "outputs": [
        {
          "output_type": "execute_result",
          "data": {
            "text/html": [
              "<div>\n",
              "<style scoped>\n",
              "    .dataframe tbody tr th:only-of-type {\n",
              "        vertical-align: middle;\n",
              "    }\n",
              "\n",
              "    .dataframe tbody tr th {\n",
              "        vertical-align: top;\n",
              "    }\n",
              "\n",
              "    .dataframe thead th {\n",
              "        text-align: right;\n",
              "    }\n",
              "</style>\n",
              "<table border=\"1\" class=\"dataframe\">\n",
              "  <thead>\n",
              "    <tr style=\"text-align: right;\">\n",
              "      <th></th>\n",
              "      <th>soc_assist</th>\n",
              "      <th>shelter_type</th>\n",
              "      <th>own_land</th>\n",
              "      <th>land_deed</th>\n",
              "      <th>livestock_type</th>\n",
              "      <th>kitchen_items</th>\n",
              "      <th>school_items</th>\n",
              "      <th>own_matress</th>\n",
              "      <th>own_blanket</th>\n",
              "      <th>water_containers</th>\n",
              "      <th>hygiene_items</th>\n",
              "    </tr>\n",
              "  </thead>\n",
              "  <tbody>\n",
              "    <tr>\n",
              "      <th>0</th>\n",
              "      <td>no</td>\n",
              "      <td>shelter_own</td>\n",
              "      <td>yes</td>\n",
              "      <td>deed_formal</td>\n",
              "      <td>livestock_none</td>\n",
              "      <td>yes</td>\n",
              "      <td>yes</td>\n",
              "      <td>no</td>\n",
              "      <td>no</td>\n",
              "      <td>yes</td>\n",
              "      <td>yes</td>\n",
              "    </tr>\n",
              "    <tr>\n",
              "      <th>1</th>\n",
              "      <td>no</td>\n",
              "      <td>shelter_own</td>\n",
              "      <td>no</td>\n",
              "      <td>na_no_land</td>\n",
              "      <td>livestock_none</td>\n",
              "      <td>yes</td>\n",
              "      <td>yes</td>\n",
              "      <td>no</td>\n",
              "      <td>no</td>\n",
              "      <td>no</td>\n",
              "      <td>yes</td>\n",
              "    </tr>\n",
              "    <tr>\n",
              "      <th>2</th>\n",
              "      <td>no</td>\n",
              "      <td>shelter_own</td>\n",
              "      <td>no</td>\n",
              "      <td>na_no_land</td>\n",
              "      <td>livestock_none</td>\n",
              "      <td>yes</td>\n",
              "      <td>yes</td>\n",
              "      <td>no</td>\n",
              "      <td>no</td>\n",
              "      <td>no</td>\n",
              "      <td>yes</td>\n",
              "    </tr>\n",
              "    <tr>\n",
              "      <th>3</th>\n",
              "      <td>no</td>\n",
              "      <td>shelter_house</td>\n",
              "      <td>no</td>\n",
              "      <td>na_no_land</td>\n",
              "      <td>livestock_none</td>\n",
              "      <td>yes</td>\n",
              "      <td>no</td>\n",
              "      <td>no</td>\n",
              "      <td>no</td>\n",
              "      <td>no</td>\n",
              "      <td>yes</td>\n",
              "    </tr>\n",
              "    <tr>\n",
              "      <th>4</th>\n",
              "      <td>no</td>\n",
              "      <td>shelter_own</td>\n",
              "      <td>no</td>\n",
              "      <td>na_no_land</td>\n",
              "      <td>livestock_none</td>\n",
              "      <td>yes</td>\n",
              "      <td>yes</td>\n",
              "      <td>no</td>\n",
              "      <td>no</td>\n",
              "      <td>yes</td>\n",
              "      <td>yes</td>\n",
              "    </tr>\n",
              "  </tbody>\n",
              "</table>\n",
              "</div>"
            ],
            "text/plain": [
              "  soc_assist   shelter_type own_land  ... own_blanket water_containers hygiene_items\n",
              "0         no    shelter_own      yes  ...          no              yes           yes\n",
              "1         no    shelter_own       no  ...          no               no           yes\n",
              "2         no    shelter_own       no  ...          no               no           yes\n",
              "3         no  shelter_house       no  ...          no               no           yes\n",
              "4         no    shelter_own       no  ...          no              yes           yes\n",
              "\n",
              "[5 rows x 11 columns]"
            ]
          },
          "metadata": {
            "tags": []
          },
          "execution_count": 13
        }
      ]
    },
    {
      "cell_type": "markdown",
      "metadata": {
        "id": "Btwn3fotTA_s",
        "colab_type": "text"
      },
      "source": [
        "### Adaptive Capacity & Stereotypes  & Programme\n",
        "\n",
        "df_other contains information about education, income, overall consumption, debts and savings. it also includes opinions about idps and activities towards idps"
      ]
    },
    {
      "cell_type": "code",
      "metadata": {
        "id": "uQlWuoq7TA_s",
        "colab_type": "code",
        "colab": {}
      },
      "source": [
        "df_other= baseline.loc[:, 'i_adaptive/i01':'k_interest/k_participate/k05']\n",
        "df_other.rename(columns = {'i_adaptive/i01': 'people_working',\n",
        "                           'i_adaptive/i04': 'income_monthly',\n",
        "                           'i_adaptive/i05': 'school_attending',\n",
        "                           'i_adaptive/i06': 'food_exp',\n",
        "                           'i_adaptive/i07': 'heating_exp',\n",
        "                           'i_adaptive/i08': 'trans_exp',\n",
        "                           'i_adaptive/i09': 'saving',\n",
        "                           'i_adaptive/i10': 'debt',\n",
        "                           'i_adaptive/i11': 'vulnerability',\n",
        "                           'j_stereotypes/j01': 'fam_cat',\n",
        "                           'j_stereotypes/j02': 'idp_source',\n",
        "                           'j_stereotypes/j03': 'idp_source_inf',\n",
        "                           'j_stereotypes/j0': 'think_displace',\n",
        "                           'k_interest/k01': 'interest_participate',\n",
        "                           'k_interest/k_participate/k02': 'self_help',\n",
        "                           'k_interest/k_participate/k03':'lit_train',\n",
        "                           'k_interest/k_participate/k04': 'vocat_train',\n",
        "                           'k_interest/k_participate/k05': 'micro_finance_train'\n",
        "                          }, inplace = True)\n",
        "df_other = df_other[['people_working', 'income_monthly', 'school_attending', 'food_exp', 'heating_exp', 'trans_exp', 'saving', 'debt', 'vulnerability']]"
      ],
      "execution_count": 0,
      "outputs": []
    },
    {
      "cell_type": "code",
      "metadata": {
        "id": "HymyUvU6MKrC",
        "colab_type": "code",
        "colab": {}
      },
      "source": [
        "columns = ['vul_minor', 'vul_woman', 'vul_sing_male', 'vul_sing_female', 'vul_ill' 'vul_poor', \n",
        "           'vul_plw', 'vul_drugs', 'vul_old', 'vul_pdisabled', 'vul_mdisabled', 'vul_medcial', \n",
        "           'vul_special', 'vul_ochildren']\n",
        "for i in columns:\n",
        "    df_other[i] = df_other['vulnerability'].str.contains(i)\n",
        "    index_1 = df_other[df_other[i].notnull()][i].index\n",
        "    df_other.loc[index_1,i] = df_other[df_other[i].notnull()][i].astype(int)\n",
        "df_other = df_other.drop('vulnerability', axis=1)"
      ],
      "execution_count": 0,
      "outputs": []
    },
    {
      "cell_type": "code",
      "metadata": {
        "id": "0iM1RpScMPDH",
        "colab_type": "code",
        "outputId": "35be9b1e-031f-4f84-adbb-92a5a87d328c",
        "colab": {
          "base_uri": "https://localhost:8080/",
          "height": 224
        }
      },
      "source": [
        "df_other.head()"
      ],
      "execution_count": 0,
      "outputs": [
        {
          "output_type": "execute_result",
          "data": {
            "text/html": [
              "<div>\n",
              "<style scoped>\n",
              "    .dataframe tbody tr th:only-of-type {\n",
              "        vertical-align: middle;\n",
              "    }\n",
              "\n",
              "    .dataframe tbody tr th {\n",
              "        vertical-align: top;\n",
              "    }\n",
              "\n",
              "    .dataframe thead th {\n",
              "        text-align: right;\n",
              "    }\n",
              "</style>\n",
              "<table border=\"1\" class=\"dataframe\">\n",
              "  <thead>\n",
              "    <tr style=\"text-align: right;\">\n",
              "      <th></th>\n",
              "      <th>people_working</th>\n",
              "      <th>income_monthly</th>\n",
              "      <th>school_attending</th>\n",
              "      <th>food_exp</th>\n",
              "      <th>heating_exp</th>\n",
              "      <th>trans_exp</th>\n",
              "      <th>saving</th>\n",
              "      <th>debt</th>\n",
              "      <th>vul_minor</th>\n",
              "      <th>vul_woman</th>\n",
              "      <th>vul_sing_male</th>\n",
              "      <th>vul_sing_female</th>\n",
              "      <th>vul_illvul_poor</th>\n",
              "      <th>vul_plw</th>\n",
              "      <th>vul_drugs</th>\n",
              "      <th>vul_old</th>\n",
              "      <th>vul_pdisabled</th>\n",
              "      <th>vul_mdisabled</th>\n",
              "      <th>vul_medcial</th>\n",
              "      <th>vul_special</th>\n",
              "      <th>vul_ochildren</th>\n",
              "    </tr>\n",
              "  </thead>\n",
              "  <tbody>\n",
              "    <tr>\n",
              "      <th>0</th>\n",
              "      <td>2</td>\n",
              "      <td>8000</td>\n",
              "      <td>yes</td>\n",
              "      <td>expenses_half</td>\n",
              "      <td>expenses_lessh</td>\n",
              "      <td>transport_more</td>\n",
              "      <td>saving_none</td>\n",
              "      <td>debt_less</td>\n",
              "      <td>0</td>\n",
              "      <td>0</td>\n",
              "      <td>0</td>\n",
              "      <td>0</td>\n",
              "      <td>0</td>\n",
              "      <td>0</td>\n",
              "      <td>0</td>\n",
              "      <td>0</td>\n",
              "      <td>0</td>\n",
              "      <td>0</td>\n",
              "      <td>0</td>\n",
              "      <td>0</td>\n",
              "      <td>0</td>\n",
              "    </tr>\n",
              "    <tr>\n",
              "      <th>1</th>\n",
              "      <td>1</td>\n",
              "      <td>3000</td>\n",
              "      <td>yes</td>\n",
              "      <td>expenses_mhalf</td>\n",
              "      <td>expenses_lessh</td>\n",
              "      <td>transport_nothing</td>\n",
              "      <td>saving_none</td>\n",
              "      <td>debt_less</td>\n",
              "      <td>0</td>\n",
              "      <td>0</td>\n",
              "      <td>0</td>\n",
              "      <td>0</td>\n",
              "      <td>0</td>\n",
              "      <td>0</td>\n",
              "      <td>0</td>\n",
              "      <td>0</td>\n",
              "      <td>0</td>\n",
              "      <td>0</td>\n",
              "      <td>0</td>\n",
              "      <td>0</td>\n",
              "      <td>0</td>\n",
              "    </tr>\n",
              "    <tr>\n",
              "      <th>2</th>\n",
              "      <td>3</td>\n",
              "      <td>7000</td>\n",
              "      <td>yes</td>\n",
              "      <td>expenses_mhalf</td>\n",
              "      <td>expenses_lessh</td>\n",
              "      <td>transport_more</td>\n",
              "      <td>saving_none</td>\n",
              "      <td>debt_more</td>\n",
              "      <td>0</td>\n",
              "      <td>0</td>\n",
              "      <td>0</td>\n",
              "      <td>0</td>\n",
              "      <td>0</td>\n",
              "      <td>0</td>\n",
              "      <td>0</td>\n",
              "      <td>0</td>\n",
              "      <td>0</td>\n",
              "      <td>0</td>\n",
              "      <td>0</td>\n",
              "      <td>0</td>\n",
              "      <td>0</td>\n",
              "    </tr>\n",
              "    <tr>\n",
              "      <th>3</th>\n",
              "      <td>1</td>\n",
              "      <td>4000</td>\n",
              "      <td>yes</td>\n",
              "      <td>expenses_mhalf</td>\n",
              "      <td>expenses_lessh</td>\n",
              "      <td>transport_nothing</td>\n",
              "      <td>saving_none</td>\n",
              "      <td>debt_less</td>\n",
              "      <td>0</td>\n",
              "      <td>0</td>\n",
              "      <td>0</td>\n",
              "      <td>0</td>\n",
              "      <td>0</td>\n",
              "      <td>0</td>\n",
              "      <td>0</td>\n",
              "      <td>0</td>\n",
              "      <td>0</td>\n",
              "      <td>0</td>\n",
              "      <td>0</td>\n",
              "      <td>0</td>\n",
              "      <td>0</td>\n",
              "    </tr>\n",
              "    <tr>\n",
              "      <th>4</th>\n",
              "      <td>1</td>\n",
              "      <td>3000</td>\n",
              "      <td>no</td>\n",
              "      <td>expenses_mhalf</td>\n",
              "      <td>expenses_lessh</td>\n",
              "      <td>transport_less</td>\n",
              "      <td>saving_none</td>\n",
              "      <td>debt_less</td>\n",
              "      <td>0</td>\n",
              "      <td>0</td>\n",
              "      <td>0</td>\n",
              "      <td>0</td>\n",
              "      <td>0</td>\n",
              "      <td>0</td>\n",
              "      <td>0</td>\n",
              "      <td>0</td>\n",
              "      <td>0</td>\n",
              "      <td>0</td>\n",
              "      <td>0</td>\n",
              "      <td>0</td>\n",
              "      <td>0</td>\n",
              "    </tr>\n",
              "  </tbody>\n",
              "</table>\n",
              "</div>"
            ],
            "text/plain": [
              "   people_working  income_monthly  ... vul_special vul_ochildren\n",
              "0               2            8000  ...           0             0\n",
              "1               1            3000  ...           0             0\n",
              "2               3            7000  ...           0             0\n",
              "3               1            4000  ...           0             0\n",
              "4               1            3000  ...           0             0\n",
              "\n",
              "[5 rows x 21 columns]"
            ]
          },
          "metadata": {
            "tags": []
          },
          "execution_count": 16
        }
      ]
    },
    {
      "cell_type": "markdown",
      "metadata": {
        "id": "zTY8X2UxTA_w",
        "colab_type": "text"
      },
      "source": [
        "# Explonatory Data Analysis\n",
        "\n",
        "In this part, I decided to to analyze displacement status of the respondents. The 90% percent of the respondents are Host of that region."
      ]
    },
    {
      "cell_type": "code",
      "metadata": {
        "id": "bhjWkycYTA_x",
        "colab_type": "code",
        "outputId": "e425cb57-6aa2-4318-eb39-403076f0a37b",
        "colab": {
          "base_uri": "https://localhost:8080/",
          "height": 204
        }
      },
      "source": [
        "downloaded = drive.CreateFile({'id':'1_38PIwQfzwYeGT8suf26JhVQU5-TOmA4'})\n",
        "downloaded.GetContentFile('geo_info.xlsx') \n",
        "geo = pd.read_excel(io='geo_info.xlsx', sheet_name='Sheet1', encoding='utf-8')\n",
        "df_loc = df_basics[['City', 'loc_herat']]\n",
        "geo = pd.concat([df_loc, geo.reindex(df_loc.index)], axis=1)\n",
        "geo_herat = geo[geo['City']=='herat']\n",
        "geo_jilal = geo[geo['City']=='jalalabad']\n",
        "geo.head()"
      ],
      "execution_count": 0,
      "outputs": [
        {
          "output_type": "execute_result",
          "data": {
            "text/html": [
              "<div>\n",
              "<style scoped>\n",
              "    .dataframe tbody tr th:only-of-type {\n",
              "        vertical-align: middle;\n",
              "    }\n",
              "\n",
              "    .dataframe tbody tr th {\n",
              "        vertical-align: top;\n",
              "    }\n",
              "\n",
              "    .dataframe thead th {\n",
              "        text-align: right;\n",
              "    }\n",
              "</style>\n",
              "<table border=\"1\" class=\"dataframe\">\n",
              "  <thead>\n",
              "    <tr style=\"text-align: right;\">\n",
              "      <th></th>\n",
              "      <th>City</th>\n",
              "      <th>loc_herat</th>\n",
              "      <th>_geo_latitude</th>\n",
              "      <th>_geo_longitude</th>\n",
              "      <th>Status</th>\n",
              "    </tr>\n",
              "  </thead>\n",
              "  <tbody>\n",
              "    <tr>\n",
              "      <th>0</th>\n",
              "      <td>herat</td>\n",
              "      <td>herat_01</td>\n",
              "      <td>34.355355</td>\n",
              "      <td>62.206247</td>\n",
              "      <td>Host</td>\n",
              "    </tr>\n",
              "    <tr>\n",
              "      <th>1</th>\n",
              "      <td>herat</td>\n",
              "      <td>herat_01</td>\n",
              "      <td>34.355356</td>\n",
              "      <td>62.206249</td>\n",
              "      <td>Host</td>\n",
              "    </tr>\n",
              "    <tr>\n",
              "      <th>2</th>\n",
              "      <td>herat</td>\n",
              "      <td>herat_01</td>\n",
              "      <td>34.355354</td>\n",
              "      <td>62.206247</td>\n",
              "      <td>Host</td>\n",
              "    </tr>\n",
              "    <tr>\n",
              "      <th>3</th>\n",
              "      <td>herat</td>\n",
              "      <td>herat_01</td>\n",
              "      <td>34.355354</td>\n",
              "      <td>62.206247</td>\n",
              "      <td>Host</td>\n",
              "    </tr>\n",
              "    <tr>\n",
              "      <th>4</th>\n",
              "      <td>herat</td>\n",
              "      <td>herat_01</td>\n",
              "      <td>34.355354</td>\n",
              "      <td>62.206247</td>\n",
              "      <td>Host</td>\n",
              "    </tr>\n",
              "  </tbody>\n",
              "</table>\n",
              "</div>"
            ],
            "text/plain": [
              "    City loc_herat  _geo_latitude  _geo_longitude Status\n",
              "0  herat  herat_01      34.355355       62.206247   Host\n",
              "1  herat  herat_01      34.355356       62.206249   Host\n",
              "2  herat  herat_01      34.355354       62.206247   Host\n",
              "3  herat  herat_01      34.355354       62.206247   Host\n",
              "4  herat  herat_01      34.355354       62.206247   Host"
            ]
          },
          "metadata": {
            "tags": []
          },
          "execution_count": 17
        }
      ]
    },
    {
      "cell_type": "code",
      "metadata": {
        "id": "B8F9rMhWTA_y",
        "colab_type": "code",
        "colab": {}
      },
      "source": [
        ""
      ],
      "execution_count": 0,
      "outputs": []
    },
    {
      "cell_type": "code",
      "metadata": {
        "id": "Z62rO0dBTA_z",
        "colab_type": "code",
        "outputId": "c8e25e37-7213-4c25-b454-be54ea568439",
        "colab": {
          "base_uri": "https://localhost:8080/",
          "height": 417
        }
      },
      "source": [
        "bar_df = geo['Status'].value_counts(normalize = True)*100\n",
        "bar_df.plot.bar()\n",
        "plt.ylabel('Frequency')\n",
        "plt.title('Status of IDPs')\n",
        "\n",
        "plt.show()\n",
        "print(bar_df)"
      ],
      "execution_count": 0,
      "outputs": [
        {
          "output_type": "display_data",
          "data": {
            "image/png": "[encoded data removed]",
            "text/plain": [
              "<Figure size 432x288 with 1 Axes>"
            ]
          },
          "metadata": {
            "tags": []
          }
        },
        {
          "output_type": "stream",
          "text": [
            "Host            90.568384\n",
            "Conflict IDP     9.014210\n",
            "Disaster IDP     0.275311\n",
            "Economic         0.142096\n",
            "Name: Status, dtype: float64\n"
          ],
          "name": "stdout"
        }
      ]
    },
    {
      "cell_type": "code",
      "metadata": {
        "id": "BgJwYUF-TA_0",
        "colab_type": "code",
        "colab": {}
      },
      "source": [
        ""
      ],
      "execution_count": 0,
      "outputs": []
    },
    {
      "cell_type": "markdown",
      "metadata": {
        "id": "-FXbBJOWTA__",
        "colab_type": "text"
      },
      "source": [
        "# Correlation Coefficients"
      ]
    },
    {
      "cell_type": "code",
      "metadata": {
        "id": "tERlVdvfY6Cd",
        "colab_type": "code",
        "colab": {}
      },
      "source": [
        "del df_basics['City'], df_basics['loc_herat']\n",
        "del geo['City']\n",
        "del geo['_geo_latitude'], geo['_geo_longitude']\n",
        "df_cat = [geo, df_basics, df_other, df_service, df_origin, df_assets]\n",
        "df_cat = pd.concat(df_cat, join='outer', axis=1)"
      ],
      "execution_count": 0,
      "outputs": []
    },
    {
      "cell_type": "code",
      "metadata": {
        "id": "xYj6GYm1Hmbu",
        "colab_type": "code",
        "outputId": "c3390a0f-ce95-4bd7-e2c6-a98095aa3b07",
        "colab": {
          "base_uri": "https://localhost:8080/",
          "height": 221
        }
      },
      "source": [
        "df_cat.isnull().sum()"
      ],
      "execution_count": 0,
      "outputs": [
        {
          "output_type": "execute_result",
          "data": {
            "text/plain": [
              "loc_herat           0\n",
              "Status              0\n",
              "sex                 0\n",
              "marital_st          0\n",
              "ethnic              0\n",
              "                   ..\n",
              "school_items        0\n",
              "own_matress         0\n",
              "own_blanket         0\n",
              "water_containers    0\n",
              "hygiene_items       0\n",
              "Length: 63, dtype: int64"
            ]
          },
          "metadata": {
            "tags": []
          },
          "execution_count": 20
        }
      ]
    },
    {
      "cell_type": "code",
      "metadata": {
        "id": "caozYh7STA__",
        "colab_type": "code",
        "colab": {}
      },
      "source": [
        "from sklearn import preprocessing\n",
        "def label_encoder(df):\n",
        "    label_encoder = preprocessing.LabelEncoder()\n",
        "    df_1 = df.copy()\n",
        "    for i in df_1.select_dtypes('object').columns:\n",
        "        df_1[i]=label_encoder.fit_transform(df[i].astype(str))\n",
        "        original = df.copy()\n",
        "        mask = df.isnull()\n",
        "        df_1 = df_1.where(~mask, original)\n",
        "    for i in df_1.select_dtypes('object').columns:\n",
        "        df_1[i] = df_1[i].astype('float')\n",
        "    return df_1"
      ],
      "execution_count": 0,
      "outputs": []
    },
    {
      "cell_type": "code",
      "metadata": {
        "id": "s3q9g5FPTBAA",
        "colab_type": "code",
        "colab": {}
      },
      "source": [
        "basics = label_encoder(df_basics)\n",
        "other = label_encoder(df_other)\n",
        "service = label_encoder(df_service)\n",
        "origin = label_encoder(df_origin)\n",
        "assets = label_encoder(df_assets)\n",
        "df_geo = label_encoder(geo)\n"
      ],
      "execution_count": 0,
      "outputs": []
    },
    {
      "cell_type": "code",
      "metadata": {
        "id": "4DlrjoQ4TBAB",
        "colab_type": "code",
        "colab": {}
      },
      "source": [
        "def corr_map(df):\n",
        "    f = plt.figure(figsize=(10, 10))\n",
        "    plt.matshow(df.corr(), fignum=f.number)\n",
        "    plt.xticks(range(df.shape[1]), df.columns, fontsize=10,rotation=90)\n",
        "    plt.yticks(range(df.shape[1]), df.columns, fontsize=10)\n",
        "    cb = plt.colorbar()\n",
        "    cb.ax.tick_params(labelsize=14)\n",
        "    return plt.show()"
      ],
      "execution_count": 0,
      "outputs": []
    },
    {
      "cell_type": "code",
      "metadata": {
        "id": "GmNB6C1rTBAD",
        "colab_type": "code",
        "outputId": "f6e43021-2749-47ad-cec2-37c59843eae0",
        "colab": {
          "base_uri": "https://localhost:8080/",
          "height": 630
        }
      },
      "source": [
        "corr_map(other)"
      ],
      "execution_count": 0,
      "outputs": [
        {
          "output_type": "display_data",
          "data": {
            "image/png": "[encoded data removed]",
            "text/plain": [
              "<Figure size 720x720 with 2 Axes>"
            ]
          },
          "metadata": {
            "tags": []
          }
        }
      ]
    },
    {
      "cell_type": "code",
      "metadata": {
        "id": "6mffl_SuTBAF",
        "colab_type": "code",
        "outputId": "142e2d6e-c099-4f07-9955-ec7f9254adce",
        "colab": {
          "base_uri": "https://localhost:8080/",
          "height": 607
        }
      },
      "source": [
        "corr_map(service)"
      ],
      "execution_count": 0,
      "outputs": [
        {
          "output_type": "display_data",
          "data": {
            "image/png": "[encoded data removed]",
            "text/plain": [
              "<Figure size 720x720 with 2 Axes>"
            ]
          },
          "metadata": {
            "tags": []
          }
        }
      ]
    },
    {
      "cell_type": "code",
      "metadata": {
        "id": "GntUwIN8TBAG",
        "colab_type": "code",
        "outputId": "c61b015f-c5f9-4f9b-d7f7-1eda8ba4afd9",
        "colab": {
          "base_uri": "https://localhost:8080/",
          "height": 598
        }
      },
      "source": [
        "corr_map(origin)"
      ],
      "execution_count": 0,
      "outputs": [
        {
          "output_type": "display_data",
          "data": {
            "image/png": "[encoded data removed]",
            "text/plain": [
              "<Figure size 720x720 with 2 Axes>"
            ]
          },
          "metadata": {
            "tags": []
          }
        }
      ]
    },
    {
      "cell_type": "code",
      "metadata": {
        "id": "QxHPDW-DTBAH",
        "colab_type": "code",
        "outputId": "53f8297b-194a-460a-fb77-2500d08f6f5f",
        "colab": {
          "base_uri": "https://localhost:8080/",
          "height": 626
        }
      },
      "source": [
        "corr_map(assets)"
      ],
      "execution_count": 0,
      "outputs": [
        {
          "output_type": "display_data",
          "data": {
            "image/png": "[encoded data removed]",
            "text/plain": [
              "<Figure size 720x720 with 2 Axes>"
            ]
          },
          "metadata": {
            "tags": []
          }
        }
      ]
    },
    {
      "cell_type": "markdown",
      "metadata": {
        "id": "f4vI8uAyM71b",
        "colab_type": "text"
      },
      "source": [
        " # Feature Engineering\n",
        " \n",
        " Since the dataset has a lot features, it requires to select the most important features. Firstly, I checked the correlation betwwen the variables. if the the variables are highly correlated I removed one of the variable. Secondly, I implemented Random Forest algorithms with optimal hyperparametes, and identify importances"
      ]
    },
    {
      "cell_type": "code",
      "metadata": {
        "id": "FK6k6D83MxYF",
        "colab_type": "code",
        "colab": {}
      },
      "source": [
        "assets=assets.drop(['land_deed','own_blanket'], axis=1)\n",
        "other=other.drop('vul_illvul_poor', axis=1)"
      ],
      "execution_count": 0,
      "outputs": []
    },
    {
      "cell_type": "code",
      "metadata": {
        "id": "xozAXOzLNBdB",
        "colab_type": "code",
        "colab": {}
      },
      "source": [
        "dfs = [df_geo, basics, other, service, origin, assets]\n",
        "df = pd.concat(dfs, join='outer', axis=1)"
      ],
      "execution_count": 0,
      "outputs": []
    },
    {
      "cell_type": "code",
      "metadata": {
        "id": "y9HsZvZmEt64",
        "colab_type": "code",
        "outputId": "0acfc4bf-bc47-4d0d-b303-81c323840ed3",
        "colab": {
          "base_uri": "https://localhost:8080/",
          "height": 224
        }
      },
      "source": [
        "df.head()"
      ],
      "execution_count": 0,
      "outputs": [
        {
          "output_type": "execute_result",
          "data": {
            "text/html": [
              "<div>\n",
              "<style scoped>\n",
              "    .dataframe tbody tr th:only-of-type {\n",
              "        vertical-align: middle;\n",
              "    }\n",
              "\n",
              "    .dataframe tbody tr th {\n",
              "        vertical-align: top;\n",
              "    }\n",
              "\n",
              "    .dataframe thead th {\n",
              "        text-align: right;\n",
              "    }\n",
              "</style>\n",
              "<table border=\"1\" class=\"dataframe\">\n",
              "  <thead>\n",
              "    <tr style=\"text-align: right;\">\n",
              "      <th></th>\n",
              "      <th>loc_herat</th>\n",
              "      <th>Status</th>\n",
              "      <th>sex</th>\n",
              "      <th>marital_st</th>\n",
              "      <th>ethnic</th>\n",
              "      <th>hh_total</th>\n",
              "      <th>male_0_4years</th>\n",
              "      <th>fem_5_11years</th>\n",
              "      <th>male_5_11years</th>\n",
              "      <th>fem_12_17years</th>\n",
              "      <th>male_12_17years</th>\n",
              "      <th>fem_18_59years</th>\n",
              "      <th>male_18_59years</th>\n",
              "      <th>fem_60years</th>\n",
              "      <th>male_60years</th>\n",
              "      <th>fem_15_24years</th>\n",
              "      <th>male_15_24years</th>\n",
              "      <th>hh_lit_female</th>\n",
              "      <th>hh_lit_male</th>\n",
              "      <th>people_working</th>\n",
              "      <th>income_monthly</th>\n",
              "      <th>school_attending</th>\n",
              "      <th>food_exp</th>\n",
              "      <th>heating_exp</th>\n",
              "      <th>trans_exp</th>\n",
              "      <th>saving</th>\n",
              "      <th>debt</th>\n",
              "      <th>vul_minor</th>\n",
              "      <th>vul_woman</th>\n",
              "      <th>vul_sing_male</th>\n",
              "      <th>vul_sing_female</th>\n",
              "      <th>vul_plw</th>\n",
              "      <th>vul_drugs</th>\n",
              "      <th>vul_old</th>\n",
              "      <th>vul_pdisabled</th>\n",
              "      <th>vul_mdisabled</th>\n",
              "      <th>vul_medcial</th>\n",
              "      <th>vul_special</th>\n",
              "      <th>vul_ochildren</th>\n",
              "      <th>educ_family</th>\n",
              "      <th>educ_level</th>\n",
              "      <th>electric</th>\n",
              "      <th>clean</th>\n",
              "      <th>latrine_share</th>\n",
              "      <th>sep_latrine</th>\n",
              "      <th>have_tazkera</th>\n",
              "      <th>health_prox</th>\n",
              "      <th>fam_origin</th>\n",
              "      <th>province</th>\n",
              "      <th>district</th>\n",
              "      <th>other_place</th>\n",
              "      <th>soc_assist</th>\n",
              "      <th>shelter_type</th>\n",
              "      <th>own_land</th>\n",
              "      <th>livestock_type</th>\n",
              "      <th>kitchen_items</th>\n",
              "      <th>school_items</th>\n",
              "      <th>own_matress</th>\n",
              "      <th>water_containers</th>\n",
              "      <th>hygiene_items</th>\n",
              "    </tr>\n",
              "  </thead>\n",
              "  <tbody>\n",
              "    <tr>\n",
              "      <th>0</th>\n",
              "      <td>0</td>\n",
              "      <td>3</td>\n",
              "      <td>1</td>\n",
              "      <td>2</td>\n",
              "      <td>5</td>\n",
              "      <td>7</td>\n",
              "      <td>0</td>\n",
              "      <td>0</td>\n",
              "      <td>0</td>\n",
              "      <td>1</td>\n",
              "      <td>2</td>\n",
              "      <td>2</td>\n",
              "      <td>2</td>\n",
              "      <td>0</td>\n",
              "      <td>0</td>\n",
              "      <td>2</td>\n",
              "      <td>3</td>\n",
              "      <td>3</td>\n",
              "      <td>4</td>\n",
              "      <td>2</td>\n",
              "      <td>8000</td>\n",
              "      <td>1</td>\n",
              "      <td>1</td>\n",
              "      <td>2</td>\n",
              "      <td>1</td>\n",
              "      <td>2</td>\n",
              "      <td>0</td>\n",
              "      <td>0</td>\n",
              "      <td>0</td>\n",
              "      <td>0</td>\n",
              "      <td>0</td>\n",
              "      <td>0</td>\n",
              "      <td>0</td>\n",
              "      <td>0</td>\n",
              "      <td>0</td>\n",
              "      <td>0</td>\n",
              "      <td>0</td>\n",
              "      <td>0</td>\n",
              "      <td>0</td>\n",
              "      <td>3</td>\n",
              "      <td>2</td>\n",
              "      <td>1</td>\n",
              "      <td>2</td>\n",
              "      <td>0</td>\n",
              "      <td>0</td>\n",
              "      <td>1</td>\n",
              "      <td>1</td>\n",
              "      <td>1</td>\n",
              "      <td>11.0</td>\n",
              "      <td>61.0</td>\n",
              "      <td>1.0</td>\n",
              "      <td>0</td>\n",
              "      <td>4</td>\n",
              "      <td>1</td>\n",
              "      <td>26</td>\n",
              "      <td>1</td>\n",
              "      <td>1</td>\n",
              "      <td>0</td>\n",
              "      <td>1</td>\n",
              "      <td>1</td>\n",
              "    </tr>\n",
              "    <tr>\n",
              "      <th>1</th>\n",
              "      <td>0</td>\n",
              "      <td>3</td>\n",
              "      <td>0</td>\n",
              "      <td>2</td>\n",
              "      <td>2</td>\n",
              "      <td>5</td>\n",
              "      <td>0</td>\n",
              "      <td>0</td>\n",
              "      <td>0</td>\n",
              "      <td>0</td>\n",
              "      <td>0</td>\n",
              "      <td>3</td>\n",
              "      <td>1</td>\n",
              "      <td>0</td>\n",
              "      <td>1</td>\n",
              "      <td>2</td>\n",
              "      <td>0</td>\n",
              "      <td>3</td>\n",
              "      <td>2</td>\n",
              "      <td>1</td>\n",
              "      <td>3000</td>\n",
              "      <td>1</td>\n",
              "      <td>3</td>\n",
              "      <td>2</td>\n",
              "      <td>2</td>\n",
              "      <td>2</td>\n",
              "      <td>0</td>\n",
              "      <td>0</td>\n",
              "      <td>0</td>\n",
              "      <td>0</td>\n",
              "      <td>0</td>\n",
              "      <td>0</td>\n",
              "      <td>0</td>\n",
              "      <td>0</td>\n",
              "      <td>0</td>\n",
              "      <td>0</td>\n",
              "      <td>0</td>\n",
              "      <td>0</td>\n",
              "      <td>0</td>\n",
              "      <td>2</td>\n",
              "      <td>5</td>\n",
              "      <td>1</td>\n",
              "      <td>2</td>\n",
              "      <td>0</td>\n",
              "      <td>0</td>\n",
              "      <td>1</td>\n",
              "      <td>1</td>\n",
              "      <td>1</td>\n",
              "      <td>11.0</td>\n",
              "      <td>61.0</td>\n",
              "      <td>1.0</td>\n",
              "      <td>0</td>\n",
              "      <td>4</td>\n",
              "      <td>0</td>\n",
              "      <td>26</td>\n",
              "      <td>1</td>\n",
              "      <td>1</td>\n",
              "      <td>0</td>\n",
              "      <td>0</td>\n",
              "      <td>1</td>\n",
              "    </tr>\n",
              "    <tr>\n",
              "      <th>2</th>\n",
              "      <td>0</td>\n",
              "      <td>3</td>\n",
              "      <td>0</td>\n",
              "      <td>2</td>\n",
              "      <td>4</td>\n",
              "      <td>17</td>\n",
              "      <td>0</td>\n",
              "      <td>0</td>\n",
              "      <td>0</td>\n",
              "      <td>0</td>\n",
              "      <td>4</td>\n",
              "      <td>7</td>\n",
              "      <td>5</td>\n",
              "      <td>0</td>\n",
              "      <td>1</td>\n",
              "      <td>3</td>\n",
              "      <td>5</td>\n",
              "      <td>7</td>\n",
              "      <td>10</td>\n",
              "      <td>3</td>\n",
              "      <td>7000</td>\n",
              "      <td>1</td>\n",
              "      <td>3</td>\n",
              "      <td>2</td>\n",
              "      <td>1</td>\n",
              "      <td>2</td>\n",
              "      <td>2</td>\n",
              "      <td>0</td>\n",
              "      <td>0</td>\n",
              "      <td>0</td>\n",
              "      <td>0</td>\n",
              "      <td>0</td>\n",
              "      <td>0</td>\n",
              "      <td>0</td>\n",
              "      <td>0</td>\n",
              "      <td>0</td>\n",
              "      <td>0</td>\n",
              "      <td>0</td>\n",
              "      <td>0</td>\n",
              "      <td>3</td>\n",
              "      <td>8</td>\n",
              "      <td>1</td>\n",
              "      <td>2</td>\n",
              "      <td>0</td>\n",
              "      <td>0</td>\n",
              "      <td>1</td>\n",
              "      <td>1</td>\n",
              "      <td>1</td>\n",
              "      <td>11.0</td>\n",
              "      <td>61.0</td>\n",
              "      <td>1.0</td>\n",
              "      <td>0</td>\n",
              "      <td>4</td>\n",
              "      <td>0</td>\n",
              "      <td>26</td>\n",
              "      <td>1</td>\n",
              "      <td>1</td>\n",
              "      <td>0</td>\n",
              "      <td>0</td>\n",
              "      <td>1</td>\n",
              "    </tr>\n",
              "    <tr>\n",
              "      <th>3</th>\n",
              "      <td>0</td>\n",
              "      <td>3</td>\n",
              "      <td>0</td>\n",
              "      <td>5</td>\n",
              "      <td>5</td>\n",
              "      <td>9</td>\n",
              "      <td>0</td>\n",
              "      <td>0</td>\n",
              "      <td>0</td>\n",
              "      <td>0</td>\n",
              "      <td>0</td>\n",
              "      <td>4</td>\n",
              "      <td>4</td>\n",
              "      <td>1</td>\n",
              "      <td>0</td>\n",
              "      <td>2</td>\n",
              "      <td>1</td>\n",
              "      <td>5</td>\n",
              "      <td>4</td>\n",
              "      <td>1</td>\n",
              "      <td>4000</td>\n",
              "      <td>1</td>\n",
              "      <td>3</td>\n",
              "      <td>2</td>\n",
              "      <td>2</td>\n",
              "      <td>2</td>\n",
              "      <td>0</td>\n",
              "      <td>0</td>\n",
              "      <td>0</td>\n",
              "      <td>0</td>\n",
              "      <td>0</td>\n",
              "      <td>0</td>\n",
              "      <td>0</td>\n",
              "      <td>0</td>\n",
              "      <td>0</td>\n",
              "      <td>0</td>\n",
              "      <td>0</td>\n",
              "      <td>0</td>\n",
              "      <td>0</td>\n",
              "      <td>2</td>\n",
              "      <td>6</td>\n",
              "      <td>1</td>\n",
              "      <td>2</td>\n",
              "      <td>0</td>\n",
              "      <td>0</td>\n",
              "      <td>1</td>\n",
              "      <td>1</td>\n",
              "      <td>1</td>\n",
              "      <td>11.0</td>\n",
              "      <td>218.0</td>\n",
              "      <td>1.0</td>\n",
              "      <td>0</td>\n",
              "      <td>1</td>\n",
              "      <td>0</td>\n",
              "      <td>26</td>\n",
              "      <td>1</td>\n",
              "      <td>0</td>\n",
              "      <td>0</td>\n",
              "      <td>0</td>\n",
              "      <td>1</td>\n",
              "    </tr>\n",
              "    <tr>\n",
              "      <th>4</th>\n",
              "      <td>0</td>\n",
              "      <td>3</td>\n",
              "      <td>0</td>\n",
              "      <td>2</td>\n",
              "      <td>5</td>\n",
              "      <td>8</td>\n",
              "      <td>0</td>\n",
              "      <td>0</td>\n",
              "      <td>1</td>\n",
              "      <td>2</td>\n",
              "      <td>0</td>\n",
              "      <td>2</td>\n",
              "      <td>2</td>\n",
              "      <td>0</td>\n",
              "      <td>1</td>\n",
              "      <td>4</td>\n",
              "      <td>2</td>\n",
              "      <td>4</td>\n",
              "      <td>3</td>\n",
              "      <td>1</td>\n",
              "      <td>3000</td>\n",
              "      <td>0</td>\n",
              "      <td>3</td>\n",
              "      <td>2</td>\n",
              "      <td>0</td>\n",
              "      <td>2</td>\n",
              "      <td>0</td>\n",
              "      <td>0</td>\n",
              "      <td>0</td>\n",
              "      <td>0</td>\n",
              "      <td>0</td>\n",
              "      <td>0</td>\n",
              "      <td>0</td>\n",
              "      <td>0</td>\n",
              "      <td>0</td>\n",
              "      <td>0</td>\n",
              "      <td>0</td>\n",
              "      <td>0</td>\n",
              "      <td>0</td>\n",
              "      <td>3</td>\n",
              "      <td>1</td>\n",
              "      <td>1</td>\n",
              "      <td>2</td>\n",
              "      <td>0</td>\n",
              "      <td>0</td>\n",
              "      <td>1</td>\n",
              "      <td>1</td>\n",
              "      <td>1</td>\n",
              "      <td>11.0</td>\n",
              "      <td>61.0</td>\n",
              "      <td>1.0</td>\n",
              "      <td>0</td>\n",
              "      <td>4</td>\n",
              "      <td>0</td>\n",
              "      <td>26</td>\n",
              "      <td>1</td>\n",
              "      <td>1</td>\n",
              "      <td>0</td>\n",
              "      <td>1</td>\n",
              "      <td>1</td>\n",
              "    </tr>\n",
              "  </tbody>\n",
              "</table>\n",
              "</div>"
            ],
            "text/plain": [
              "   loc_herat  Status  sex  ...  own_matress  water_containers  hygiene_items\n",
              "0          0       3    1  ...            0                 1              1\n",
              "1          0       3    0  ...            0                 0              1\n",
              "2          0       3    0  ...            0                 0              1\n",
              "3          0       3    0  ...            0                 0              1\n",
              "4          0       3    0  ...            0                 1              1\n",
              "\n",
              "[5 rows x 60 columns]"
            ]
          },
          "metadata": {
            "tags": []
          },
          "execution_count": 30
        }
      ]
    },
    {
      "cell_type": "code",
      "metadata": {
        "id": "veBVd2eKTBAN",
        "colab_type": "code",
        "outputId": "c5986720-f30c-4d9a-82df-5b02d089b8f5",
        "colab": {
          "base_uri": "https://localhost:8080/",
          "height": 142
        }
      },
      "source": [
        "data = pd.DataFrame(df.isnull().sum().reset_index().values, columns=[\"col_name\", \"number\"])\n",
        "data[data['number']!=0]"
      ],
      "execution_count": 0,
      "outputs": [
        {
          "output_type": "execute_result",
          "data": {
            "text/html": [
              "<div>\n",
              "<style scoped>\n",
              "    .dataframe tbody tr th:only-of-type {\n",
              "        vertical-align: middle;\n",
              "    }\n",
              "\n",
              "    .dataframe tbody tr th {\n",
              "        vertical-align: top;\n",
              "    }\n",
              "\n",
              "    .dataframe thead th {\n",
              "        text-align: right;\n",
              "    }\n",
              "</style>\n",
              "<table border=\"1\" class=\"dataframe\">\n",
              "  <thead>\n",
              "    <tr style=\"text-align: right;\">\n",
              "      <th></th>\n",
              "      <th>col_name</th>\n",
              "      <th>number</th>\n",
              "    </tr>\n",
              "  </thead>\n",
              "  <tbody>\n",
              "    <tr>\n",
              "      <th>48</th>\n",
              "      <td>province</td>\n",
              "      <td>1118</td>\n",
              "    </tr>\n",
              "    <tr>\n",
              "      <th>49</th>\n",
              "      <td>district</td>\n",
              "      <td>1175</td>\n",
              "    </tr>\n",
              "    <tr>\n",
              "      <th>50</th>\n",
              "      <td>other_place</td>\n",
              "      <td>521</td>\n",
              "    </tr>\n",
              "  </tbody>\n",
              "</table>\n",
              "</div>"
            ],
            "text/plain": [
              "       col_name number\n",
              "48     province   1118\n",
              "49     district   1175\n",
              "50  other_place    521"
            ]
          },
          "metadata": {
            "tags": []
          },
          "execution_count": 31
        }
      ]
    },
    {
      "cell_type": "code",
      "metadata": {
        "id": "NyyVTg3STBAN",
        "colab_type": "code",
        "colab": {}
      },
      "source": [
        "df = df[[i for i in data[data['number']==0]['col_name'].unique()]]"
      ],
      "execution_count": 0,
      "outputs": []
    },
    {
      "cell_type": "code",
      "metadata": {
        "id": "tSooFhqnKhHT",
        "colab_type": "code",
        "outputId": "50f46d4b-f8b8-4b50-8d7d-2fd9576103a6",
        "colab": {
          "base_uri": "https://localhost:8080/",
          "height": 628
        }
      },
      "source": [
        "corr_map(df)"
      ],
      "execution_count": 0,
      "outputs": [
        {
          "output_type": "display_data",
          "data": {
            "image/png": "[encoded data removed]",
            "text/plain": [
              "<Figure size 720x720 with 2 Axes>"
            ]
          },
          "metadata": {
            "tags": []
          }
        }
      ]
    },
    {
      "cell_type": "code",
      "metadata": {
        "id": "z6OtVcAmfhpL",
        "colab_type": "code",
        "outputId": "daa1e89b-ded0-4e21-db07-ce4d3494b607",
        "colab": {
          "base_uri": "https://localhost:8080/",
          "height": 34
        }
      },
      "source": [
        "from google.colab import drive\n",
        "drive.mount('drive')"
      ],
      "execution_count": 0,
      "outputs": [
        {
          "output_type": "stream",
          "text": [
            "Drive already mounted at drive; to attempt to forcibly remount, call drive.mount(\"drive\", force_remount=True).\n"
          ],
          "name": "stdout"
        }
      ]
    },
    {
      "cell_type": "code",
      "metadata": {
        "id": "d1CBTPPzUCWD",
        "colab_type": "code",
        "colab": {}
      },
      "source": [
        "df.to_csv('df_arqaam.csv', index = False)\n",
        "!cp df_arqaam.csv \"drive/My Drive/ML Projects/Arqaam\""
      ],
      "execution_count": 0,
      "outputs": []
    },
    {
      "cell_type": "code",
      "metadata": {
        "id": "MKL5SvOLUtGm",
        "colab_type": "code",
        "colab": {}
      },
      "source": [
        ""
      ],
      "execution_count": 0,
      "outputs": []
    }
  ]
}